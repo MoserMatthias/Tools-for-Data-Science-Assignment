{
 "cells": [
  {
   "cell_type": "markdown",
   "id": "046cf164-9be5-45b5-b731-7f3f8ade6bed",
   "metadata": {},
   "source": [
    "# Data Science Tools and Ecosystem"
   ]
  },
  {
   "cell_type": "markdown",
   "id": "836ad809-56c0-4ca9-843c-c955212b4007",
   "metadata": {},
   "source": [
    "In this notebook, Data Science Tools an Ecosystem are summarized."
   ]
  },
  {
   "cell_type": "markdown",
   "id": "4c1e0d62-bbf9-4342-be4f-e5b4f28bde79",
   "metadata": {},
   "source": [
    "__Objectives__\n",
    "- List popular languages for Data Science\n",
    "- List commonly used libraries used for Data Science\n",
    "- List Data Science development tools\n",
    "- Give some examples of basic arithmetic expressions in Python"
   ]
  },
  {
   "cell_type": "markdown",
   "id": "0187866a-8479-49e5-8437-03dec81c9dfe",
   "metadata": {},
   "source": [
    "Some of the popular languages for Data Science are\n",
    "1) Python\n",
    "2) Julia\n",
    "3) R"
   ]
  },
  {
   "cell_type": "markdown",
   "id": "36a42154-9c0e-4653-a245-f01d9929e6d2",
   "metadata": {},
   "source": [
    "Some of the commonly used libraries for Data Science are\n",
    "1) Matplotlib\n",
    "2) ggplot\n",
    "3) TensorFlow"
   ]
  },
  {
   "cell_type": "markdown",
   "id": "daab1f9d-b76c-48a7-be92-c59fedcb576b",
   "metadata": {},
   "source": [
    "|Data Science Tools|\n",
    "|-|\n",
    "|Visual Studio Code|\n",
    "|R Studio|\n",
    "|Spyder|"
   ]
  },
  {
   "cell_type": "markdown",
   "id": "e51203c9-dd46-455d-b348-edf2c2788e92",
   "metadata": {},
   "source": [
    "### Below are a few examples of evaluating arithmetic expressions in Python."
   ]
  },
  {
   "cell_type": "code",
   "execution_count": 1,
   "id": "a856da64-7402-42ca-9de0-8be2df5b0281",
   "metadata": {
    "tags": []
   },
   "outputs": [
    {
     "data": {
      "text/plain": [
       "17"
      ]
     },
     "execution_count": 1,
     "metadata": {},
     "output_type": "execute_result"
    }
   ],
   "source": [
    "# This is a simple arithmetic expression to multiply and add integers\n",
    "(3*4)+5"
   ]
  },
  {
   "cell_type": "code",
   "execution_count": 2,
   "id": "480fcaad-9e53-4e82-a4e9-8dc1c5fd167d",
   "metadata": {
    "tags": []
   },
   "outputs": [
    {
     "data": {
      "text/plain": [
       "3.3333333333333335"
      ]
     },
     "execution_count": 2,
     "metadata": {},
     "output_type": "execute_result"
    }
   ],
   "source": [
    "# Convert 200 minutes to hours\n",
    "minutes = 200\n",
    "hours = minutes/60\n",
    "hours"
   ]
  },
  {
   "cell_type": "markdown",
   "id": "fdfd051a-2924-4c3a-9015-1de0a7e93cfe",
   "metadata": {},
   "source": [
    "## Author\n",
    "Matthias Moser"
   ]
  },
  {
   "cell_type": "code",
   "execution_count": null,
   "id": "e479a9b9-2a11-4199-bebf-ee94f2f56250",
   "metadata": {},
   "outputs": [],
   "source": []
  }
 ],
 "metadata": {
  "kernelspec": {
   "display_name": "Python",
   "language": "python",
   "name": "conda-env-python-py"
  },
  "language_info": {
   "codemirror_mode": {
    "name": "ipython",
    "version": 3
   },
   "file_extension": ".py",
   "mimetype": "text/x-python",
   "name": "python",
   "nbconvert_exporter": "python",
   "pygments_lexer": "ipython3",
   "version": "3.7.12"
  }
 },
 "nbformat": 4,
 "nbformat_minor": 5
}
